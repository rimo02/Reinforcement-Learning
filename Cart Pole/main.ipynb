{
 "cells": [
  {
   "cell_type": "code",
   "execution_count": 1,
   "metadata": {},
   "outputs": [],
   "source": [
    "import gym\n",
    "import random\n",
    "import numpy as np\n",
    "import tensorflow as tf\n",
    "from tensorflow.keras.models import Sequential\n",
    "from tensorflow.keras.layers import Dense, Flatten\n",
    "from tensorflow.keras.optimizers.legacy import Adam\n",
    "from rl.agents import DQNAgent\n",
    "from rl.policy import BoltzmannQPolicy\n",
    "from rl.memory import SequentialMemory\n"
   ]
  },
  {
   "cell_type": "code",
   "execution_count": 2,
   "metadata": {},
   "outputs": [],
   "source": [
    "\n",
    "env=gym.make('CartPole-v1')\n",
    "states=env.observation_space.shape[0]\n",
    "actions=env.action_space.n"
   ]
  },
  {
   "cell_type": "code",
   "execution_count": 3,
   "metadata": {},
   "outputs": [
    {
     "data": {
      "text/plain": [
       "(4, 2, Box(-3.4028234663852886e+38, 3.4028234663852886e+38, (4,), float32))"
      ]
     },
     "execution_count": 3,
     "metadata": {},
     "output_type": "execute_result"
    }
   ],
   "source": [
    "states,actions,env.observation_space"
   ]
  },
  {
   "cell_type": "code",
   "execution_count": 4,
   "metadata": {},
   "outputs": [
    {
     "name": "stdout",
     "output_type": "stream",
     "text": [
      "Episode:1 ,Score:13.0\n",
      "Episode:2 ,Score:9.0\n",
      "Episode:3 ,Score:38.0\n",
      "Episode:4 ,Score:42.0\n",
      "Episode:5 ,Score:54.0\n",
      "Episode:6 ,Score:16.0\n",
      "Episode:7 ,Score:18.0\n",
      "Episode:8 ,Score:19.0\n",
      "Episode:9 ,Score:20.0\n",
      "Episode:10 ,Score:13.0\n",
      "Episode:11 ,Score:27.0\n",
      "Episode:12 ,Score:16.0\n",
      "Episode:13 ,Score:15.0\n",
      "Episode:14 ,Score:19.0\n",
      "Episode:15 ,Score:34.0\n",
      "Episode:16 ,Score:26.0\n",
      "Episode:17 ,Score:29.0\n",
      "Episode:18 ,Score:39.0\n",
      "Episode:19 ,Score:31.0\n",
      "Episode:20 ,Score:13.0\n"
     ]
    }
   ],
   "source": [
    "episodes=20\n",
    "for episode in range(1,episodes+1):\n",
    "    state=env.reset()\n",
    "    done=False\n",
    "    score=0\n",
    "\n",
    "    while not done:\n",
    "        env.render()\n",
    "        action=random.choice([0,1])\n",
    "        n_state,reward,done,info=env.step(action)\n",
    "        score+=reward\n",
    "    print('Episode:{} ,Score:{}'.format(episode,score))\n",
    "\n"
   ]
  },
  {
   "cell_type": "code",
   "execution_count": 5,
   "metadata": {},
   "outputs": [
    {
     "name": "stdout",
     "output_type": "stream",
     "text": [
      "<keras.engine.sequential.Sequential object at 0x0000026030B05190>\n"
     ]
    }
   ],
   "source": [
    "def build_model(states, actions):\n",
    "    model = Sequential()\n",
    "    model.add(Flatten(input_shape=(1, states)))\n",
    "    model.add(Dense(24, activation=\"relu\"))\n",
    "    model.add(Dense(24, activation=\"relu\"))\n",
    "    model.add(Dense(actions, activation=\"linear\"))\n",
    "    return model\n",
    "\n",
    "\n",
    "model = build_model(states, actions)\n",
    "print(model)\n"
   ]
  },
  {
   "cell_type": "code",
   "execution_count": 6,
   "metadata": {},
   "outputs": [
    {
     "name": "stdout",
     "output_type": "stream",
     "text": [
      "Model: \"sequential\"\n",
      "_________________________________________________________________\n",
      " Layer (type)                Output Shape              Param #   \n",
      "=================================================================\n",
      " flatten (Flatten)           (None, 4)                 0         \n",
      "                                                                 \n",
      " dense (Dense)               (None, 24)                120       \n",
      "                                                                 \n",
      " dense_1 (Dense)             (None, 24)                600       \n",
      "                                                                 \n",
      " dense_2 (Dense)             (None, 2)                 50        \n",
      "                                                                 \n",
      "=================================================================\n",
      "Total params: 770\n",
      "Trainable params: 770\n",
      "Non-trainable params: 0\n",
      "_________________________________________________________________\n"
     ]
    }
   ],
   "source": [
    "model.summary()"
   ]
  },
  {
   "cell_type": "code",
   "execution_count": 10,
   "metadata": {},
   "outputs": [],
   "source": [
    "def build_agent(model, actions):\n",
    "    policy = BoltzmannQPolicy()\n",
    "    memory = SequentialMemory(limit=50000, window_length=1)\n",
    "    dqn = DQNAgent(model=model, memory=memory,\n",
    "                   nb_actions=actions, policy=policy)\n",
    "    dqn.compile(Adam(learning_rate=1e-3), metrics=['mae'])\n",
    "    return dqn"
   ]
  },
  {
   "cell_type": "code",
   "execution_count": 11,
   "metadata": {},
   "outputs": [
    {
     "name": "stdout",
     "output_type": "stream",
     "text": [
      "10000/10000 [==============================] - 81s 8ms/step - reward: 1.0000\n",
      "470 episodes - episode_reward: 21.243 [9.000, 124.000] - loss: 0.016 - mae: 1.536 - mean_q: 3.060\n",
      "\n",
      "Interval 2 (10000 steps performed)\n",
      "10000/10000 [==============================] - 89s 9ms/step - reward: 1.0000\n",
      "415 episodes - episode_reward: 24.104 [9.000, 115.000] - loss: 0.016 - mae: 1.980 - mean_q: 3.994\n",
      "\n",
      "Interval 3 (20000 steps performed)\n",
      "10000/10000 [==============================] - 88s 9ms/step - reward: 1.0000\n",
      "406 episodes - episode_reward: 24.635 [9.000, 124.000] - loss: 0.016 - mae: 2.398 - mean_q: 4.870\n",
      "\n",
      "Interval 4 (30000 steps performed)\n",
      "10000/10000 [==============================] - 86s 9ms/step - reward: 1.0000\n",
      "305 episodes - episode_reward: 32.790 [9.000, 139.000] - loss: 0.019 - mae: 2.823 - mean_q: 5.763\n",
      "\n",
      "Interval 5 (40000 steps performed)\n",
      "10000/10000 [==============================] - 87s 9ms/step - reward: 1.0000\n",
      "done, took 430.811 seconds\n"
     ]
    },
    {
     "data": {
      "text/plain": [
       "<keras.callbacks.History at 0x2606a2002d0>"
      ]
     },
     "execution_count": 11,
     "metadata": {},
     "output_type": "execute_result"
    }
   ],
   "source": [
    "dqn = build_agent(model, actions)\n",
    "dqn.compile(Adam(lr=1e-3), metrics=['mae'])\n",
    "dqn.fit(env, nb_steps=50000, visualize=False, verbose=1)"
   ]
  },
  {
   "cell_type": "code",
   "execution_count": 12,
   "metadata": {},
   "outputs": [
    {
     "name": "stdout",
     "output_type": "stream",
     "text": [
      "Testing for 100 episodes ...\n",
      "Episode 1: reward: 151.000, steps: 151\n",
      "Episode 2: reward: 156.000, steps: 156\n",
      "Episode 3: reward: 150.000, steps: 150\n",
      "Episode 4: reward: 155.000, steps: 155\n",
      "Episode 5: reward: 160.000, steps: 160\n",
      "Episode 6: reward: 158.000, steps: 158\n",
      "Episode 7: reward: 162.000, steps: 162\n",
      "Episode 8: reward: 164.000, steps: 164\n",
      "Episode 9: reward: 153.000, steps: 153\n",
      "Episode 10: reward: 154.000, steps: 154\n",
      "Episode 11: reward: 152.000, steps: 152\n",
      "Episode 12: reward: 171.000, steps: 171\n",
      "Episode 13: reward: 158.000, steps: 158\n",
      "Episode 14: reward: 148.000, steps: 148\n",
      "Episode 15: reward: 149.000, steps: 149\n",
      "Episode 16: reward: 157.000, steps: 157\n",
      "Episode 17: reward: 156.000, steps: 156\n",
      "Episode 18: reward: 160.000, steps: 160\n",
      "Episode 19: reward: 158.000, steps: 158\n",
      "Episode 20: reward: 166.000, steps: 166\n",
      "Episode 21: reward: 152.000, steps: 152\n",
      "Episode 22: reward: 161.000, steps: 161\n",
      "Episode 23: reward: 158.000, steps: 158\n",
      "Episode 24: reward: 158.000, steps: 158\n",
      "Episode 25: reward: 153.000, steps: 153\n",
      "Episode 26: reward: 153.000, steps: 153\n",
      "Episode 27: reward: 160.000, steps: 160\n",
      "Episode 28: reward: 151.000, steps: 151\n",
      "Episode 29: reward: 159.000, steps: 159\n",
      "Episode 30: reward: 162.000, steps: 162\n",
      "Episode 31: reward: 144.000, steps: 144\n",
      "Episode 32: reward: 155.000, steps: 155\n",
      "Episode 33: reward: 165.000, steps: 165\n",
      "Episode 34: reward: 150.000, steps: 150\n",
      "Episode 35: reward: 162.000, steps: 162\n",
      "Episode 36: reward: 175.000, steps: 175\n",
      "Episode 37: reward: 165.000, steps: 165\n",
      "Episode 38: reward: 152.000, steps: 152\n",
      "Episode 39: reward: 150.000, steps: 150\n",
      "Episode 40: reward: 151.000, steps: 151\n",
      "Episode 41: reward: 161.000, steps: 161\n",
      "Episode 42: reward: 166.000, steps: 166\n",
      "Episode 43: reward: 161.000, steps: 161\n",
      "Episode 44: reward: 146.000, steps: 146\n",
      "Episode 45: reward: 170.000, steps: 170\n",
      "Episode 46: reward: 169.000, steps: 169\n",
      "Episode 47: reward: 156.000, steps: 156\n",
      "Episode 48: reward: 153.000, steps: 153\n",
      "Episode 49: reward: 162.000, steps: 162\n",
      "Episode 50: reward: 162.000, steps: 162\n",
      "Episode 51: reward: 156.000, steps: 156\n",
      "Episode 52: reward: 152.000, steps: 152\n",
      "Episode 53: reward: 159.000, steps: 159\n",
      "Episode 54: reward: 162.000, steps: 162\n",
      "Episode 55: reward: 159.000, steps: 159\n",
      "Episode 56: reward: 169.000, steps: 169\n",
      "Episode 57: reward: 171.000, steps: 171\n",
      "Episode 58: reward: 157.000, steps: 157\n",
      "Episode 59: reward: 165.000, steps: 165\n",
      "Episode 60: reward: 159.000, steps: 159\n",
      "Episode 61: reward: 158.000, steps: 158\n",
      "Episode 62: reward: 157.000, steps: 157\n",
      "Episode 63: reward: 160.000, steps: 160\n",
      "Episode 64: reward: 166.000, steps: 166\n",
      "Episode 65: reward: 153.000, steps: 153\n",
      "Episode 66: reward: 158.000, steps: 158\n",
      "Episode 67: reward: 162.000, steps: 162\n",
      "Episode 68: reward: 160.000, steps: 160\n",
      "Episode 69: reward: 160.000, steps: 160\n",
      "Episode 70: reward: 163.000, steps: 163\n",
      "Episode 71: reward: 153.000, steps: 153\n",
      "Episode 72: reward: 162.000, steps: 162\n",
      "Episode 73: reward: 157.000, steps: 157\n",
      "Episode 74: reward: 163.000, steps: 163\n",
      "Episode 75: reward: 163.000, steps: 163\n",
      "Episode 76: reward: 163.000, steps: 163\n",
      "Episode 77: reward: 165.000, steps: 165\n",
      "Episode 78: reward: 162.000, steps: 162\n",
      "Episode 79: reward: 155.000, steps: 155\n",
      "Episode 80: reward: 168.000, steps: 168\n",
      "Episode 81: reward: 173.000, steps: 173\n",
      "Episode 82: reward: 158.000, steps: 158\n",
      "Episode 83: reward: 159.000, steps: 159\n",
      "Episode 84: reward: 153.000, steps: 153\n",
      "Episode 85: reward: 153.000, steps: 153\n",
      "Episode 86: reward: 156.000, steps: 156\n",
      "Episode 87: reward: 162.000, steps: 162\n",
      "Episode 88: reward: 166.000, steps: 166\n",
      "Episode 89: reward: 158.000, steps: 158\n",
      "Episode 90: reward: 170.000, steps: 170\n",
      "Episode 91: reward: 157.000, steps: 157\n",
      "Episode 92: reward: 161.000, steps: 161\n",
      "Episode 93: reward: 164.000, steps: 164\n",
      "Episode 94: reward: 162.000, steps: 162\n",
      "Episode 95: reward: 152.000, steps: 152\n",
      "Episode 96: reward: 164.000, steps: 164\n",
      "Episode 97: reward: 156.000, steps: 156\n",
      "Episode 98: reward: 161.000, steps: 161\n",
      "Episode 99: reward: 157.000, steps: 157\n",
      "Episode 100: reward: 159.000, steps: 159\n",
      "158.98\n",
      "Testing for 15 episodes ...\n",
      "Episode 1: reward: 155.000, steps: 155\n",
      "Episode 2: reward: 165.000, steps: 165\n",
      "Episode 3: reward: 160.000, steps: 160\n",
      "Episode 4: reward: 156.000, steps: 156\n",
      "Episode 5: reward: 157.000, steps: 157\n",
      "Episode 6: reward: 153.000, steps: 153\n",
      "Episode 7: reward: 152.000, steps: 152\n",
      "Episode 8: reward: 160.000, steps: 160\n",
      "Episode 9: reward: 156.000, steps: 156\n",
      "Episode 10: reward: 168.000, steps: 168\n",
      "Episode 11: reward: 168.000, steps: 168\n",
      "Episode 12: reward: 147.000, steps: 147\n",
      "Episode 13: reward: 156.000, steps: 156\n",
      "Episode 14: reward: 164.000, steps: 164\n",
      "Episode 15: reward: 159.000, steps: 159\n"
     ]
    },
    {
     "ename": "",
     "evalue": "",
     "output_type": "error",
     "traceback": [
      "\u001b[1;31mThe Kernel crashed while executing code in the the current cell or a previous cell. Please review the code in the cell(s) to identify a possible cause of the failure. Click <a href='https://aka.ms/vscodeJupyterKernelCrash'>here</a> for more info. View Jupyter <a href='command:jupyter.viewOutput'>log</a> for further details."
     ]
    }
   ],
   "source": [
    "scores = dqn.test(env, nb_episodes=100, visualize=False)\n",
    "print(np.mean(scores.history['episode_reward']))\n",
    "dqn.save_weights('dqn_weights1.h5f', overwrite=True)\n",
    "\n",
    "_ = dqn.test(env, nb_episodes=15, visualize=True)"
   ]
  },
  {
   "cell_type": "code",
   "execution_count": null,
   "metadata": {},
   "outputs": [],
   "source": [
    "env.close()"
   ]
  },
  {
   "cell_type": "code",
   "execution_count": null,
   "metadata": {},
   "outputs": [],
   "source": []
  }
 ],
 "metadata": {
  "kernelspec": {
   "display_name": "Python 3",
   "language": "python",
   "name": "python3"
  },
  "language_info": {
   "codemirror_mode": {
    "name": "ipython",
    "version": 3
   },
   "file_extension": ".py",
   "mimetype": "text/x-python",
   "name": "python",
   "nbconvert_exporter": "python",
   "pygments_lexer": "ipython3",
   "version": "3.11.4"
  },
  "orig_nbformat": 4
 },
 "nbformat": 4,
 "nbformat_minor": 2
}
